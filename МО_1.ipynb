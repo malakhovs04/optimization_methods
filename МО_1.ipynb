{
  "nbformat": 4,
  "nbformat_minor": 0,
  "metadata": {
    "colab": {
      "provenance": [],
      "authorship_tag": "ABX9TyMF9CE72aL2+4xcg5kMssnv",
      "include_colab_link": true
    },
    "kernelspec": {
      "name": "python3",
      "display_name": "Python 3"
    },
    "language_info": {
      "name": "python"
    }
  },
  "cells": [
    {
      "cell_type": "markdown",
      "metadata": {
        "id": "view-in-github",
        "colab_type": "text"
      },
      "source": [
        "<a href=\"https://colab.research.google.com/github/malakhovs04/optimization_methods/blob/main/%D0%9C%D0%9E_1.ipynb\" target=\"_parent\"><img src=\"https://colab.research.google.com/assets/colab-badge.svg\" alt=\"Open In Colab\"/></a>"
      ]
    },
    {
      "cell_type": "code",
      "source": [
        "import math"
      ],
      "metadata": {
        "id": "RkQ7ImXEErxt"
      },
      "execution_count": null,
      "outputs": []
    },
    {
      "cell_type": "markdown",
      "source": [
        "1. Пассивный поиск"
      ],
      "metadata": {
        "id": "ImLi1M6svBtL"
      }
    },
    {
      "cell_type": "code",
      "execution_count": null,
      "metadata": {
        "colab": {
          "base_uri": "https://localhost:8080/"
        },
        "id": "GphawUoSu1jd",
        "outputId": "331e0f45-be46-48d7-eb9f-235b50f76303"
      },
      "outputs": [
        {
          "output_type": "stream",
          "name": "stdout",
          "text": [
            "Минимум функции находится в точке x = 0.8000\n",
            "Значение функции в этой точке f(0.80) = -1.640\n",
            "Количество обращений к функции: 11\n"
          ]
        }
      ],
      "source": [
        "def f(x):\n",
        "    return x**3 - 3 * math.sin(x)\n",
        "\n",
        "a = 0.5\n",
        "b = 1.0\n",
        "epsilon = 0.05\n",
        "\n",
        "num_intervals = int((b - a) / epsilon)\n",
        "step = (b - a) / num_intervals\n",
        "points = [a + i * step for i in range(num_intervals + 1)]\n",
        "\n",
        "function_calls = 0\n",
        "values = []\n",
        "for x in points:\n",
        "    values.append(f(x))\n",
        "    function_calls += 1\n",
        "\n",
        "min_index = values.index(min(values))\n",
        "min_x = points[min_index]\n",
        "min_value = values[min_index]\n",
        "\n",
        "print(f\"Минимум функции находится в точке x = {min_x:.4f}\")\n",
        "print(f\"Значение функции в этой точке f({min_x:.2f}) = {min_value:.3f}\")\n",
        "print(f\"Количество обращений к функции: {function_calls}\")"
      ]
    },
    {
      "cell_type": "markdown",
      "source": [
        "2. Метод дихотомии"
      ],
      "metadata": {
        "id": "RssMAbuMvaRx"
      }
    },
    {
      "cell_type": "code",
      "source": [
        "def f(x):\n",
        "    return x**3 - 3 * math.sin(x)\n",
        "\n",
        "a = 0.5\n",
        "b = 1.0\n",
        "epsilon = 0.05\n",
        "delta = 0.01\n",
        "function_calls = 0\n",
        "\n",
        "while (b - a) >= epsilon:\n",
        "    mid = (a + b) / 2\n",
        "    x1 = mid - delta / 2\n",
        "    x2 = mid + delta / 2\n",
        "\n",
        "    f1 = f(x1)\n",
        "    f2 = f(x2)\n",
        "    function_calls += 2\n",
        "\n",
        "    if f1 < f2:\n",
        "        b = x2\n",
        "    else:\n",
        "        a = x1\n",
        "\n",
        "min_x = (a + b) / 2\n",
        "min_value = f(min_x)\n",
        "function_calls += 1\n",
        "\n",
        "print(f\"Минимум функции находится в точке x = {min_x:.3f}\")\n",
        "print(f\"Значение функции в этой точке f({min_x:.3f}) = {min_value:.3f}\")\n",
        "print(f\"Количество обращений к функции: {function_calls}\")"
      ],
      "metadata": {
        "colab": {
          "base_uri": "https://localhost:8080/"
        },
        "id": "rEgwoSWPTVpr",
        "outputId": "aed95d87-ddfe-44e3-84a2-537f8fedaf0f"
      },
      "execution_count": null,
      "outputs": [
        {
          "output_type": "stream",
          "name": "stdout",
          "text": [
            "Минимум функции находится в точке x = 0.827\n",
            "Значение функции в этой точке f(0.827) = -1.642\n",
            "Количество обращений к функции: 9\n"
          ]
        }
      ]
    },
    {
      "cell_type": "markdown",
      "source": [
        "3. Метод золотого сечения"
      ],
      "metadata": {
        "id": "F4L3YEG4vp0G"
      }
    },
    {
      "cell_type": "code",
      "source": [
        "def f(x):\n",
        "    return x**3 - 3 * math.sin(x)\n",
        "\n",
        "a = 0.5\n",
        "b = 1.0\n",
        "epsilon = 0.05\n",
        "golden_ratio = (math.sqrt(5) - 1) / 2\n",
        "function_calls = 0\n",
        "\n",
        "x1 = a + (1 - golden_ratio) * (b - a)\n",
        "x2 = a + golden_ratio * (b - a)\n",
        "f1, f2 = f(x1), f(x2)\n",
        "function_calls += 2\n",
        "\n",
        "while (b - a) >= epsilon:\n",
        "    if f1 < f2:\n",
        "        b = x2\n",
        "        x2, f2 = x1, f1\n",
        "        x1 = a + (1 - golden_ratio) * (b - a)\n",
        "        f1 = f(x1)\n",
        "        function_calls += 1\n",
        "    else:\n",
        "        a = x1\n",
        "        x1, f1 = x2, f2\n",
        "        x2 = a + golden_ratio * (b - a)\n",
        "        f2 = f(x2)\n",
        "        function_calls += 1\n",
        "\n",
        "min_x = (a + b) / 2\n",
        "min_value = f(min_x)\n",
        "function_calls += 1\n",
        "\n",
        "print(f\"Минимум функции находится в точке x = {min_x:.3f}\")\n",
        "print(f\"Значение функции в этой точке f({min_x:.3f}) = {min_value:.3f}\")\n",
        "print(f\"Количество обращений к функции: {function_calls}\")"
      ],
      "metadata": {
        "colab": {
          "base_uri": "https://localhost:8080/"
        },
        "id": "yabUncpQTxZO",
        "outputId": "60973ca7-0d9b-48ae-9083-a00e98d4adb6"
      },
      "execution_count": null,
      "outputs": [
        {
          "output_type": "stream",
          "name": "stdout",
          "text": [
            "Минимум функции находится в точке x = 0.832\n",
            "Значение функции в этой точке f(0.832) = -1.642\n",
            "Количество обращений к функции: 8\n"
          ]
        }
      ]
    },
    {
      "cell_type": "markdown",
      "source": [
        "4. Метод Фибоначе"
      ],
      "metadata": {
        "id": "GZPya2Q6v2XO"
      }
    },
    {
      "cell_type": "code",
      "source": [
        "def f(x):\n",
        "    return x**3 - 3 * math.sin(x)\n",
        "\n",
        "a = 0.5\n",
        "b = 1.0\n",
        "eps = 0.05\n",
        "\n",
        "target = (b - a) * (1 + eps) / (2 * eps)\n",
        "fib = [1, 1]  # F_0 = 1, F_1 = 1\n",
        "while fib[-1] < target:\n",
        "    fib.append(fib[-1] + fib[-2])\n",
        "\n",
        "n = len(fib) - 2\n",
        "print (n)\n",
        "function_calls = 0\n",
        "\n",
        "k = 1\n",
        "c = a + (b - a) * fib[n - k] / fib[n + 1 - k]\n",
        "d = a + (b - a) * fib[n + 1 - k] / fib[n + 1 - k]\n",
        "\n",
        "fc = f(c)\n",
        "fd = f(d)\n",
        "function_calls += 2\n",
        "\n",
        "# Итерации\n",
        "for k in range(1, n + 1):\n",
        "    if fc < fd:\n",
        "        b = d\n",
        "        d = c\n",
        "        fd = fc\n",
        "        c = a + (b - a) * fib[n - k] / fib[n + 1 - k]\n",
        "        fc = f(c)\n",
        "    else:\n",
        "        a = c\n",
        "        c = d\n",
        "        fc = fd\n",
        "        d = a + (b - a) * fib[n + 1 - k] / fib[n + 1 - k]\n",
        "        fd = f(d)\n",
        "    function_calls += 1\n",
        "\n",
        "# Финальное значение\n",
        "min_x = (a + b) / 2\n",
        "min_value = f(min_x)\n",
        "function_calls += 1\n",
        "\n",
        "print(f\"Минимум функции находится в точке x = {min_x:.3f}\")\n",
        "print(f\"Значение функции в этой точке f({min_x:.3f}) = {min_value:.3f}\")\n",
        "print(f\"Количество обращений к функции: {function_calls}\")"
      ],
      "metadata": {
        "colab": {
          "base_uri": "https://localhost:8080/"
        },
        "id": "JvKTbTwKWHTh",
        "outputId": "ccdb37cd-c700-42eb-a9be-6d10ebeebe8b"
      },
      "execution_count": null,
      "outputs": [
        {
          "output_type": "stream",
          "name": "stdout",
          "text": [
            "4\n",
            "Минимум функции находится в точке x = 0.950\n",
            "Значение функции в этой точке f(0.950) = -1.583\n",
            "Количество обращений к функции: 7\n"
          ]
        }
      ]
    }
  ]
}