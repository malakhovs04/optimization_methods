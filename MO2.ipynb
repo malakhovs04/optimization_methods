{
  "nbformat": 4,
  "nbformat_minor": 0,
  "metadata": {
    "colab": {
      "provenance": [],
      "authorship_tag": "ABX9TyO0pur4U7Uklb2GptOIZ26l",
      "include_colab_link": true
    },
    "kernelspec": {
      "name": "python3",
      "display_name": "Python 3"
    },
    "language_info": {
      "name": "python"
    }
  },
  "cells": [
    {
      "cell_type": "markdown",
      "metadata": {
        "id": "view-in-github",
        "colab_type": "text"
      },
      "source": [
        "<a href=\"https://colab.research.google.com/github/malakhovs04/optimization_methods/blob/main/MO2.ipynb\" target=\"_parent\"><img src=\"https://colab.research.google.com/assets/colab-badge.svg\" alt=\"Open In Colab\"/></a>"
      ]
    },
    {
      "cell_type": "markdown",
      "source": [
        "1. метод касательных"
      ],
      "metadata": {
        "id": "oJfdgEYOQ4YT"
      }
    },
    {
      "cell_type": "code",
      "execution_count": null,
      "metadata": {
        "colab": {
          "base_uri": "https://localhost:8080/"
        },
        "id": "vfjgpIodQylQ",
        "outputId": "89d3f5e4-f1a1-4686-ace6-e9d862557c3f"
      },
      "outputs": [
        {
          "output_type": "stream",
          "name": "stdout",
          "text": [
            "\n",
            "Метод секущих:\n",
            "Точка минимума: x = 0.82091\n",
            "Значение функции в точке минимума: f(x) = -1.64209\n",
            "Количество итераций: 2\n"
          ]
        }
      ],
      "source": [
        "import math\n",
        "\n",
        "def f(x):\n",
        "    return x**3 - 3 * math.sin(x)\n",
        "\n",
        "def df(x):\n",
        "    return 3 * x**2 - 3 * math.cos(x)\n",
        "\n",
        "def secant_method(x0, x1, eps):\n",
        "    iteration_count = 0\n",
        "    x_prev = x0\n",
        "    x_curr = x1\n",
        "\n",
        "    while abs(df(x_curr)) > eps:\n",
        "        iteration_count += 1\n",
        "        x_next = x_curr - df(x_curr) * (x_curr - x_prev) / (df(x_curr) - df(x_prev))\n",
        "        x_prev = x_curr\n",
        "        x_curr = x_next\n",
        "\n",
        "    return x_curr, iteration_count\n",
        "\n",
        "x0 = 0.5\n",
        "x1 = 1.0\n",
        "eps = 0.05\n",
        "\n",
        "min_point, iterations = secant_method(x0, x1, eps)\n",
        "\n",
        "print(\"\\nМетод секущих:\")\n",
        "print(f\"Точка минимума: x = {min_point:.5f}\")\n",
        "print(f\"Значение функции в точке минимума: f(x) = {f(min_point):.5f}\")\n",
        "print(f\"Количество итераций: {iterations}\")"
      ]
    },
    {
      "cell_type": "markdown",
      "source": [
        "2.метод касательных"
      ],
      "metadata": {
        "id": "RYlGAT8pRBue"
      }
    },
    {
      "cell_type": "code",
      "source": [
        "import math\n",
        "\n",
        "def f(x):\n",
        "    return x**3 - 3 * math.sin(x)\n",
        "\n",
        "def df(x):\n",
        "    return 3 * x**2 - 3 * math.cos(x)\n",
        "\n",
        "def tangent_method(a, b, eps):\n",
        "    iteration_count = 0\n",
        "    a_k = a\n",
        "    b_k = b\n",
        "\n",
        "    while abs(b_k - a_k) > eps:\n",
        "        iteration_count += 1\n",
        "        c = a_k - df(a_k) * (b_k - a_k) / (df(b_k) - df(a_k))\n",
        "\n",
        "        if df(c) > 0:\n",
        "            b_k = c\n",
        "        else:\n",
        "            a_k = c\n",
        "\n",
        "    return (a_k + b_k) / 2, iteration_count\n",
        "\n",
        "a = 0.5\n",
        "b = 1.0\n",
        "eps = 0.05\n",
        "\n",
        "min_point, iterations = tangent_method(a, b, eps)\n",
        "\n",
        "print(\"Метод касательных:\")\n",
        "print(f\"Точка минимума: x = {min_point:.5f}\")\n",
        "print(f\"Значение функции в точке минимума: f(x) = {f(min_point):.5f}\")\n",
        "print(f\"Количество итераций: {iterations}\")"
      ],
      "metadata": {
        "colab": {
          "base_uri": "https://localhost:8080/"
        },
        "id": "kPGd3nASRpoy",
        "outputId": "68ae9e67-2725-4077-82f5-587194919057"
      },
      "execution_count": null,
      "outputs": [
        {
          "output_type": "stream",
          "name": "stdout",
          "text": [
            "Метод касательных:\n",
            "Точка минимума: x = 0.82413\n",
            "Значение функции в точке минимума: f(x) = -1.64213\n",
            "Количество итераций: 16\n"
          ]
        }
      ]
    },
    {
      "cell_type": "markdown",
      "source": [
        "3. метод ньютона-рфсона"
      ],
      "metadata": {
        "id": "jGSZZ-QoRuhX"
      }
    },
    {
      "cell_type": "code",
      "source": [
        "import math\n",
        "\n",
        "def f(x):\n",
        "    return x**3 - 3 * math.sin(x)\n",
        "\n",
        "def df(x):\n",
        "    return 3 * x**2 - 3 * math.cos(x)\n",
        "\n",
        "def ddf(x):\n",
        "    return 6 * x + 3 * math.sin(x)\n",
        "\n",
        "def newton_raphson_method(x0, eps):\n",
        "    iteration_count = 0\n",
        "    x_curr = x0\n",
        "\n",
        "    while abs(df(x_curr)) > eps:\n",
        "        iteration_count += 1\n",
        "        x_next = x_curr - df(x_curr) / ddf(x_curr)\n",
        "        x_curr = x_next\n",
        "\n",
        "    return x_curr, iteration_count\n",
        "x0 = 0.5\n",
        "eps = 0.05\n",
        "min_point, iterations = newton_raphson_method(x0, eps)\n",
        "\n",
        "print(\"\\nМетод Ньютона-Рафсона:\")\n",
        "print(f\"Точка минимума: x = {min_point:.5f}\")\n",
        "print(f\"Значение функции в точке минимума: f(x) = {f(min_point):.5f}\")\n",
        "print(f\"Количество итераций: {iterations}\")"
      ],
      "metadata": {
        "colab": {
          "base_uri": "https://localhost:8080/"
        },
        "id": "GfDqDioDR8NB",
        "outputId": "f3ef9276-3497-4aac-9490-9b65f748e3e0"
      },
      "execution_count": null,
      "outputs": [
        {
          "output_type": "stream",
          "name": "stdout",
          "text": [
            "\n",
            "Метод Ньютона-Рафсона:\n",
            "Точка минимума: x = 0.82911\n",
            "Значение функции в точке минимума: f(x) = -1.64204\n",
            "Количество итераций: 2\n"
          ]
        }
      ]
    },
    {
      "cell_type": "markdown",
      "source": [
        "покоординатный спуск"
      ],
      "metadata": {
        "id": "ueYwjX5AS9-G"
      }
    },
    {
      "cell_type": "code",
      "source": [
        "import math\n",
        "\n",
        "def f(x):\n",
        "    x1, x2 = x\n",
        "    return x1**4 + x2**4 + math.sqrt(2 + x1**2 + x2**2) - 2*x1 + 3*x2\n",
        "\n",
        "def golden_section_search(func, a, b, tolerance=1e-5):\n",
        "\n",
        "    phi = (1 + math.sqrt(5)) / 2\n",
        "\n",
        "    c = b - (b - a) / phi\n",
        "    d = a + (b - a) / phi\n",
        "\n",
        "    while abs(b - a) > tolerance:\n",
        "        if func(c) < func(d):\n",
        "            b = d\n",
        "        else:\n",
        "            a = c\n",
        "\n",
        "        c = b - (b - a) / phi\n",
        "        d = a + (b - a) / phi\n",
        "\n",
        "    return (a + b) / 2\n",
        "\n",
        "def coordinate_descent(initial_x, eps=1e-4, max_iterations=100):\n",
        "    x = list(initial_x)\n",
        "    iterations = 0\n",
        "\n",
        "    for _ in range(max_iterations):\n",
        "        x_old = list(x)\n",
        "        iterations += 1\n",
        "        for i in range(2):\n",
        "            if i == 0:\n",
        "                def f_x1(x1_val):\n",
        "                    return f([x1_val, x[1]])\n",
        "                x[0] = golden_section_search(f_x1, -5, 5)\n",
        "            elif i == 1:\n",
        "                def f_x2(x2_val):\n",
        "                    return f([x[0], x2_val])\n",
        "                x[1] = golden_section_search(f_x2, -5, 5)\n",
        "        norm_diff = math.sqrt(sum([(x[j] - x_old[j])**2 for j in range(2)]))\n",
        "        if norm_diff < eps:\n",
        "            break\n",
        "\n",
        "    return x, iterations\n",
        "\n",
        "initial_x = [0, 0]\n",
        "eps = 0.0001\n",
        "max_iterations = 100 # Максимальное количество итераций\n",
        "\n",
        "# Запуск метода покоординатного спуска\n",
        "optimal_x, iterations_count = coordinate_descent(initial_x, eps, max_iterations)\n",
        "\n",
        "print(\"Метод покоординатного спуска:\")\n",
        "print(f\"Оптимальная точка x: x = [{optimal_x[0]:.6f}, {optimal_x[1]:.6f}]\")\n",
        "print(f\"Значение функции в оптимальной точке: f(x) = {f(optimal_x):.6f}\")\n",
        "print(f\"Количество итераций: {iterations_count}\")"
      ],
      "metadata": {
        "id": "EYgysBCYTAn_"
      },
      "execution_count": null,
      "outputs": []
    }
  ]
}